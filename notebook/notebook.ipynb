{
 "cells": [
  {
   "cell_type": "code",
   "execution_count": 1,
   "metadata": {},
   "outputs": [],
   "source": [
    "import pandas as pd\n",
    "import numpy as np\n",
    "from dotenv import load_dotenv\n",
    "import os\n",
    "import streamlit as st\n",
    "import openai\n",
    "from openai import OpenAI\n",
    "from langchain.document_loaders import TextLoader\n",
    "from langchain.text_splitter import RecursiveCharacterTextSplitter\n",
    "from langchain.embeddings import OpenAIEmbeddings\n",
    "from langchain.vectorstores import FAISS\n",
    "from langchain.chains import create_qa_with_sources_chain\n",
    "from langchain.chains import (\n",
    "            StuffDocumentsChain, LLMChain, ConversationalRetrievalChain\n",
    "        )\n",
    "from langchain_core.prompts import PromptTemplate\n",
    "from langchain_community.llms import OpenAI\n"
   ]
  },
  {
   "cell_type": "code",
   "execution_count": 2,
   "metadata": {},
   "outputs": [
    {
     "data": {
      "text/plain": [
       "True"
      ]
     },
     "execution_count": 2,
     "metadata": {},
     "output_type": "execute_result"
    }
   ],
   "source": [
    "from dotenv import load_dotenv,find_dotenv\n",
    "load_dotenv(find_dotenv())"
   ]
  },
  {
   "cell_type": "code",
   "execution_count": 3,
   "metadata": {},
   "outputs": [],
   "source": [
    "OpenAI_key = os.environ.get(\"opena_api_key\")"
   ]
  },
  {
   "cell_type": "code",
   "execution_count": 4,
   "metadata": {},
   "outputs": [],
   "source": [
    "from openai import OpenAI\n",
    "client = OpenAI(api_key=OpenAI_key)\n",
    "\n",
    "audio_file = open(\"test.m4a\", \"rb\")\n",
    "transcription = client.audio.transcriptions.create(\n",
    "  model=\"whisper-1\", \n",
    "  file=audio_file, \n",
    "  response_format=\"text\"\n",
    ")\n"
   ]
  },
  {
   "cell_type": "code",
   "execution_count": 5,
   "metadata": {},
   "outputs": [
    {
     "data": {
      "text/plain": [
       "\"Hello ladies and gentlemen, how are you doing? My name is Timothy. I want to try using WispR, you know, I tried it last time when I went to shoot FFMVorever, but now I think it will go ahead, right? So, I'm recording this, I'm going to save it to reformat, or if possible in MP3 format. Then I'm going to test it to see the transcription, which it actually worked really fine, right? Alright, so the end goal of this project is to create a 4-stroke orchestral system, right? So I need to be very fast, so possible ways of doing that is what I need right now, okay? Alright, so thank you for listening, and stay blessed. Bye bye!\\n\""
      ]
     },
     "execution_count": 5,
     "metadata": {},
     "output_type": "execute_result"
    }
   ],
   "source": [
    "transcription"
   ]
  },
  {
   "cell_type": "code",
   "execution_count": 4,
   "metadata": {},
   "outputs": [
    {
     "data": {
      "text/html": [
       "<div>\n",
       "<style scoped>\n",
       "    .dataframe tbody tr th:only-of-type {\n",
       "        vertical-align: middle;\n",
       "    }\n",
       "\n",
       "    .dataframe tbody tr th {\n",
       "        vertical-align: top;\n",
       "    }\n",
       "\n",
       "    .dataframe thead th {\n",
       "        text-align: right;\n",
       "    }\n",
       "</style>\n",
       "<table border=\"1\" class=\"dataframe\">\n",
       "  <thead>\n",
       "    <tr style=\"text-align: right;\">\n",
       "      <th></th>\n",
       "      <th>id_client</th>\n",
       "      <th>client</th>\n",
       "      <th>category</th>\n",
       "      <th>section</th>\n",
       "      <th>id_item</th>\n",
       "      <th>item</th>\n",
       "      <th>description</th>\n",
       "      <th>price_dinein</th>\n",
       "      <th>price_delivery</th>\n",
       "      <th>price_pickup</th>\n",
       "      <th>available_dinein</th>\n",
       "      <th>available_delivery</th>\n",
       "      <th>available_pickup</th>\n",
       "      <th>dietary</th>\n",
       "      <th>contains</th>\n",
       "      <th>calories</th>\n",
       "      <th>prep_time</th>\n",
       "      <th>alcohol</th>\n",
       "    </tr>\n",
       "  </thead>\n",
       "  <tbody>\n",
       "    <tr>\n",
       "      <th>0</th>\n",
       "      <td>1</td>\n",
       "      <td>Muchacha</td>\n",
       "      <td>Food</td>\n",
       "      <td>SHARE AROUND</td>\n",
       "      <td>1</td>\n",
       "      <td>Freshly Cooked Tortilla Corn Chips</td>\n",
       "      <td>NaN</td>\n",
       "      <td>5.5</td>\n",
       "      <td>6.5</td>\n",
       "      <td>6.5</td>\n",
       "      <td>True</td>\n",
       "      <td>True</td>\n",
       "      <td>True</td>\n",
       "      <td>GF, V</td>\n",
       "      <td>NaN</td>\n",
       "      <td>300</td>\n",
       "      <td>20</td>\n",
       "      <td>False</td>\n",
       "    </tr>\n",
       "    <tr>\n",
       "      <th>1</th>\n",
       "      <td>1</td>\n",
       "      <td>Muchacha</td>\n",
       "      <td>Food</td>\n",
       "      <td>SHARE AROUND</td>\n",
       "      <td>2</td>\n",
       "      <td>Guacamole (small)</td>\n",
       "      <td>Avocado, Coriander &amp; Lime Juice</td>\n",
       "      <td>6.0</td>\n",
       "      <td>7.0</td>\n",
       "      <td>7.0</td>\n",
       "      <td>True</td>\n",
       "      <td>True</td>\n",
       "      <td>True</td>\n",
       "      <td>GF, V</td>\n",
       "      <td>NaN</td>\n",
       "      <td>150</td>\n",
       "      <td>20</td>\n",
       "      <td>False</td>\n",
       "    </tr>\n",
       "    <tr>\n",
       "      <th>2</th>\n",
       "      <td>1</td>\n",
       "      <td>Muchacha</td>\n",
       "      <td>Food</td>\n",
       "      <td>SHARE AROUND</td>\n",
       "      <td>3</td>\n",
       "      <td>Guacamole (large)</td>\n",
       "      <td>Avocado, Coriander &amp; Lime Juice</td>\n",
       "      <td>10.0</td>\n",
       "      <td>11.0</td>\n",
       "      <td>11.0</td>\n",
       "      <td>True</td>\n",
       "      <td>True</td>\n",
       "      <td>True</td>\n",
       "      <td>GF, V</td>\n",
       "      <td>NaN</td>\n",
       "      <td>300</td>\n",
       "      <td>20</td>\n",
       "      <td>False</td>\n",
       "    </tr>\n",
       "    <tr>\n",
       "      <th>3</th>\n",
       "      <td>1</td>\n",
       "      <td>Muchacha</td>\n",
       "      <td>Food</td>\n",
       "      <td>SHARE AROUND</td>\n",
       "      <td>4</td>\n",
       "      <td>Pico De Gallo Salsa (small)</td>\n",
       "      <td>w/ Tomato, Onion, Jalapeños, Coriander &amp; Lime ...</td>\n",
       "      <td>5.0</td>\n",
       "      <td>6.0</td>\n",
       "      <td>6.0</td>\n",
       "      <td>True</td>\n",
       "      <td>True</td>\n",
       "      <td>True</td>\n",
       "      <td>GF, V</td>\n",
       "      <td>NaN</td>\n",
       "      <td>25</td>\n",
       "      <td>20</td>\n",
       "      <td>False</td>\n",
       "    </tr>\n",
       "    <tr>\n",
       "      <th>4</th>\n",
       "      <td>1</td>\n",
       "      <td>Muchacha</td>\n",
       "      <td>Food</td>\n",
       "      <td>SHARE AROUND</td>\n",
       "      <td>5</td>\n",
       "      <td>Pico De Gallo Salsa (large)</td>\n",
       "      <td>w/ Tomato, Onion, Jalapeños, Coriander &amp; Lime ...</td>\n",
       "      <td>8.0</td>\n",
       "      <td>9.0</td>\n",
       "      <td>9.0</td>\n",
       "      <td>True</td>\n",
       "      <td>True</td>\n",
       "      <td>True</td>\n",
       "      <td>GF, V</td>\n",
       "      <td>NaN</td>\n",
       "      <td>50</td>\n",
       "      <td>20</td>\n",
       "      <td>False</td>\n",
       "    </tr>\n",
       "    <tr>\n",
       "      <th>5</th>\n",
       "      <td>1</td>\n",
       "      <td>Muchacha</td>\n",
       "      <td>Food</td>\n",
       "      <td>SHARE AROUND</td>\n",
       "      <td>6</td>\n",
       "      <td>Jalapeño Frickles</td>\n",
       "      <td>Crispy Fried Pickled Jalapeños w/ Citru s Yoghurt</td>\n",
       "      <td>7.0</td>\n",
       "      <td>8.0</td>\n",
       "      <td>8.0</td>\n",
       "      <td>True</td>\n",
       "      <td>True</td>\n",
       "      <td>True</td>\n",
       "      <td>GF, V</td>\n",
       "      <td>NaN</td>\n",
       "      <td>450</td>\n",
       "      <td>20</td>\n",
       "      <td>False</td>\n",
       "    </tr>\n",
       "    <tr>\n",
       "      <th>6</th>\n",
       "      <td>1</td>\n",
       "      <td>Muchacha</td>\n",
       "      <td>Food</td>\n",
       "      <td>SHARE AROUND</td>\n",
       "      <td>7</td>\n",
       "      <td>Pork Taquitos</td>\n",
       "      <td>Cheese &amp; Pork Corn Tortilla ‘Cigars’ Fried w/ ...</td>\n",
       "      <td>16.0</td>\n",
       "      <td>17.0</td>\n",
       "      <td>17.0</td>\n",
       "      <td>True</td>\n",
       "      <td>True</td>\n",
       "      <td>True</td>\n",
       "      <td>GF</td>\n",
       "      <td>NaN</td>\n",
       "      <td>500</td>\n",
       "      <td>20</td>\n",
       "      <td>False</td>\n",
       "    </tr>\n",
       "    <tr>\n",
       "      <th>7</th>\n",
       "      <td>1</td>\n",
       "      <td>Muchacha</td>\n",
       "      <td>Food</td>\n",
       "      <td>SHARE AROUND</td>\n",
       "      <td>8</td>\n",
       "      <td>Veggie Taquitos</td>\n",
       "      <td>Cheese, Corn, Black Beans, Roasted Capsicum Co...</td>\n",
       "      <td>16.0</td>\n",
       "      <td>17.0</td>\n",
       "      <td>17.0</td>\n",
       "      <td>True</td>\n",
       "      <td>True</td>\n",
       "      <td>True</td>\n",
       "      <td>GF, V</td>\n",
       "      <td>NaN</td>\n",
       "      <td>400</td>\n",
       "      <td>20</td>\n",
       "      <td>False</td>\n",
       "    </tr>\n",
       "    <tr>\n",
       "      <th>8</th>\n",
       "      <td>1</td>\n",
       "      <td>Muchacha</td>\n",
       "      <td>Food</td>\n",
       "      <td>SHARE AROUND</td>\n",
       "      <td>9</td>\n",
       "      <td>Sweet Potato Fries</td>\n",
       "      <td>w/ Chipotle BBQ Sauce &amp; Paprika &amp; Ha banero Salt</td>\n",
       "      <td>10.0</td>\n",
       "      <td>11.0</td>\n",
       "      <td>11.0</td>\n",
       "      <td>True</td>\n",
       "      <td>True</td>\n",
       "      <td>True</td>\n",
       "      <td>GF, V</td>\n",
       "      <td>NaN</td>\n",
       "      <td>400</td>\n",
       "      <td>20</td>\n",
       "      <td>False</td>\n",
       "    </tr>\n",
       "    <tr>\n",
       "      <th>9</th>\n",
       "      <td>1</td>\n",
       "      <td>Muchacha</td>\n",
       "      <td>Food</td>\n",
       "      <td>SHARE AROUND</td>\n",
       "      <td>10</td>\n",
       "      <td>Spicy Buffalo Chicken Wings</td>\n",
       "      <td>NaN</td>\n",
       "      <td>15.0</td>\n",
       "      <td>16.0</td>\n",
       "      <td>16.0</td>\n",
       "      <td>True</td>\n",
       "      <td>True</td>\n",
       "      <td>True</td>\n",
       "      <td>GF</td>\n",
       "      <td>Hot</td>\n",
       "      <td>600</td>\n",
       "      <td>20</td>\n",
       "      <td>False</td>\n",
       "    </tr>\n",
       "  </tbody>\n",
       "</table>\n",
       "</div>"
      ],
      "text/plain": [
       "   id_client    client category       section  id_item  \\\n",
       "0          1  Muchacha     Food  SHARE AROUND        1   \n",
       "1          1  Muchacha     Food  SHARE AROUND        2   \n",
       "2          1  Muchacha     Food  SHARE AROUND        3   \n",
       "3          1  Muchacha     Food  SHARE AROUND        4   \n",
       "4          1  Muchacha     Food  SHARE AROUND        5   \n",
       "5          1  Muchacha     Food  SHARE AROUND        6   \n",
       "6          1  Muchacha     Food  SHARE AROUND        7   \n",
       "7          1  Muchacha     Food  SHARE AROUND        8   \n",
       "8          1  Muchacha     Food  SHARE AROUND        9   \n",
       "9          1  Muchacha     Food  SHARE AROUND       10   \n",
       "\n",
       "                                 item  \\\n",
       "0  Freshly Cooked Tortilla Corn Chips   \n",
       "1                   Guacamole (small)   \n",
       "2                   Guacamole (large)   \n",
       "3         Pico De Gallo Salsa (small)   \n",
       "4         Pico De Gallo Salsa (large)   \n",
       "5                   Jalapeño Frickles   \n",
       "6                       Pork Taquitos   \n",
       "7                     Veggie Taquitos   \n",
       "8                  Sweet Potato Fries   \n",
       "9         Spicy Buffalo Chicken Wings   \n",
       "\n",
       "                                         description  price_dinein  \\\n",
       "0                                                NaN           5.5   \n",
       "1                    Avocado, Coriander & Lime Juice           6.0   \n",
       "2                    Avocado, Coriander & Lime Juice          10.0   \n",
       "3  w/ Tomato, Onion, Jalapeños, Coriander & Lime ...           5.0   \n",
       "4  w/ Tomato, Onion, Jalapeños, Coriander & Lime ...           8.0   \n",
       "5  Crispy Fried Pickled Jalapeños w/ Citru s Yoghurt           7.0   \n",
       "6  Cheese & Pork Corn Tortilla ‘Cigars’ Fried w/ ...          16.0   \n",
       "7  Cheese, Corn, Black Beans, Roasted Capsicum Co...          16.0   \n",
       "8   w/ Chipotle BBQ Sauce & Paprika & Ha banero Salt          10.0   \n",
       "9                                                NaN          15.0   \n",
       "\n",
       "   price_delivery  price_pickup  available_dinein  available_delivery  \\\n",
       "0             6.5           6.5              True                True   \n",
       "1             7.0           7.0              True                True   \n",
       "2            11.0          11.0              True                True   \n",
       "3             6.0           6.0              True                True   \n",
       "4             9.0           9.0              True                True   \n",
       "5             8.0           8.0              True                True   \n",
       "6            17.0          17.0              True                True   \n",
       "7            17.0          17.0              True                True   \n",
       "8            11.0          11.0              True                True   \n",
       "9            16.0          16.0              True                True   \n",
       "\n",
       "   available_pickup dietary contains  calories  prep_time  alcohol  \n",
       "0              True   GF, V      NaN       300         20    False  \n",
       "1              True   GF, V      NaN       150         20    False  \n",
       "2              True   GF, V      NaN       300         20    False  \n",
       "3              True   GF, V      NaN        25         20    False  \n",
       "4              True   GF, V      NaN        50         20    False  \n",
       "5              True   GF, V      NaN       450         20    False  \n",
       "6              True      GF      NaN       500         20    False  \n",
       "7              True   GF, V      NaN       400         20    False  \n",
       "8              True   GF, V      NaN       400         20    False  \n",
       "9              True      GF      Hot       600         20    False  "
      ]
     },
     "execution_count": 4,
     "metadata": {},
     "output_type": "execute_result"
    }
   ],
   "source": [
    "df = pd.read_excel(\"240305 Muchacha menu v1.xlsx\")\n",
    "df.head(10)"
   ]
  },
  {
   "cell_type": "code",
   "execution_count": 5,
   "metadata": {},
   "outputs": [
    {
     "data": {
      "text/plain": [
       "(65, 18)"
      ]
     },
     "execution_count": 5,
     "metadata": {},
     "output_type": "execute_result"
    }
   ],
   "source": [
    "df.shape"
   ]
  },
  {
   "cell_type": "code",
   "execution_count": 6,
   "metadata": {},
   "outputs": [
    {
     "data": {
      "text/plain": [
       "id_client              0\n",
       "client                 0\n",
       "category               0\n",
       "section                0\n",
       "id_item                0\n",
       "item                   0\n",
       "description           32\n",
       "price_dinein           0\n",
       "price_delivery         0\n",
       "price_pickup           0\n",
       "available_dinein       0\n",
       "available_delivery     0\n",
       "available_pickup       0\n",
       "dietary               27\n",
       "contains              61\n",
       "calories               0\n",
       "prep_time              0\n",
       "alcohol                0\n",
       "dtype: int64"
      ]
     },
     "execution_count": 6,
     "metadata": {},
     "output_type": "execute_result"
    }
   ],
   "source": [
    "df.isna().sum()"
   ]
  },
  {
   "cell_type": "code",
   "execution_count": 7,
   "metadata": {},
   "outputs": [
    {
     "data": {
      "text/plain": [
       "Index(['id_client', 'client', 'category', 'section', 'id_item', 'item',\n",
       "       'description', 'price_dinein', 'price_delivery', 'price_pickup',\n",
       "       'available_dinein', 'available_delivery', 'available_pickup', 'dietary',\n",
       "       'contains', 'calories', 'prep_time', 'alcohol'],\n",
       "      dtype='object')"
      ]
     },
     "execution_count": 7,
     "metadata": {},
     "output_type": "execute_result"
    }
   ],
   "source": [
    "df.columns"
   ]
  },
  {
   "cell_type": "code",
   "execution_count": 8,
   "metadata": {},
   "outputs": [
    {
     "data": {
      "text/plain": [
       "(65, 18)"
      ]
     },
     "execution_count": 8,
     "metadata": {},
     "output_type": "execute_result"
    }
   ],
   "source": [
    "df.shape"
   ]
  },
  {
   "cell_type": "code",
   "execution_count": 9,
   "metadata": {},
   "outputs": [],
   "source": [
    "cols_to_drop = ['id_client', 'client', 'contains', 'dietary']\n",
    "df_1 = df.drop(cols_to_drop, axis=1)"
   ]
  },
  {
   "cell_type": "code",
   "execution_count": 10,
   "metadata": {},
   "outputs": [],
   "source": [
    "# filling missing values with not available\n",
    "df_1 = df_1.fillna(\"Not Available at the moment\")"
   ]
  },
  {
   "cell_type": "code",
   "execution_count": 11,
   "metadata": {},
   "outputs": [
    {
     "data": {
      "text/html": [
       "<div>\n",
       "<style scoped>\n",
       "    .dataframe tbody tr th:only-of-type {\n",
       "        vertical-align: middle;\n",
       "    }\n",
       "\n",
       "    .dataframe tbody tr th {\n",
       "        vertical-align: top;\n",
       "    }\n",
       "\n",
       "    .dataframe thead th {\n",
       "        text-align: right;\n",
       "    }\n",
       "</style>\n",
       "<table border=\"1\" class=\"dataframe\">\n",
       "  <thead>\n",
       "    <tr style=\"text-align: right;\">\n",
       "      <th></th>\n",
       "      <th>category</th>\n",
       "      <th>section</th>\n",
       "      <th>id_item</th>\n",
       "      <th>item</th>\n",
       "      <th>description</th>\n",
       "      <th>price_dinein</th>\n",
       "      <th>price_delivery</th>\n",
       "      <th>price_pickup</th>\n",
       "      <th>available_dinein</th>\n",
       "      <th>available_delivery</th>\n",
       "      <th>available_pickup</th>\n",
       "      <th>calories</th>\n",
       "      <th>prep_time</th>\n",
       "      <th>alcohol</th>\n",
       "    </tr>\n",
       "  </thead>\n",
       "  <tbody>\n",
       "    <tr>\n",
       "      <th>0</th>\n",
       "      <td>Food</td>\n",
       "      <td>SHARE AROUND</td>\n",
       "      <td>1</td>\n",
       "      <td>Freshly Cooked Tortilla Corn Chips</td>\n",
       "      <td>Not Available at the moment</td>\n",
       "      <td>5.5</td>\n",
       "      <td>6.5</td>\n",
       "      <td>6.5</td>\n",
       "      <td>True</td>\n",
       "      <td>True</td>\n",
       "      <td>True</td>\n",
       "      <td>300</td>\n",
       "      <td>20</td>\n",
       "      <td>False</td>\n",
       "    </tr>\n",
       "    <tr>\n",
       "      <th>1</th>\n",
       "      <td>Food</td>\n",
       "      <td>SHARE AROUND</td>\n",
       "      <td>2</td>\n",
       "      <td>Guacamole (small)</td>\n",
       "      <td>Avocado, Coriander &amp; Lime Juice</td>\n",
       "      <td>6.0</td>\n",
       "      <td>7.0</td>\n",
       "      <td>7.0</td>\n",
       "      <td>True</td>\n",
       "      <td>True</td>\n",
       "      <td>True</td>\n",
       "      <td>150</td>\n",
       "      <td>20</td>\n",
       "      <td>False</td>\n",
       "    </tr>\n",
       "    <tr>\n",
       "      <th>2</th>\n",
       "      <td>Food</td>\n",
       "      <td>SHARE AROUND</td>\n",
       "      <td>3</td>\n",
       "      <td>Guacamole (large)</td>\n",
       "      <td>Avocado, Coriander &amp; Lime Juice</td>\n",
       "      <td>10.0</td>\n",
       "      <td>11.0</td>\n",
       "      <td>11.0</td>\n",
       "      <td>True</td>\n",
       "      <td>True</td>\n",
       "      <td>True</td>\n",
       "      <td>300</td>\n",
       "      <td>20</td>\n",
       "      <td>False</td>\n",
       "    </tr>\n",
       "    <tr>\n",
       "      <th>3</th>\n",
       "      <td>Food</td>\n",
       "      <td>SHARE AROUND</td>\n",
       "      <td>4</td>\n",
       "      <td>Pico De Gallo Salsa (small)</td>\n",
       "      <td>w/ Tomato, Onion, Jalapeños, Coriander &amp; Lime ...</td>\n",
       "      <td>5.0</td>\n",
       "      <td>6.0</td>\n",
       "      <td>6.0</td>\n",
       "      <td>True</td>\n",
       "      <td>True</td>\n",
       "      <td>True</td>\n",
       "      <td>25</td>\n",
       "      <td>20</td>\n",
       "      <td>False</td>\n",
       "    </tr>\n",
       "    <tr>\n",
       "      <th>4</th>\n",
       "      <td>Food</td>\n",
       "      <td>SHARE AROUND</td>\n",
       "      <td>5</td>\n",
       "      <td>Pico De Gallo Salsa (large)</td>\n",
       "      <td>w/ Tomato, Onion, Jalapeños, Coriander &amp; Lime ...</td>\n",
       "      <td>8.0</td>\n",
       "      <td>9.0</td>\n",
       "      <td>9.0</td>\n",
       "      <td>True</td>\n",
       "      <td>True</td>\n",
       "      <td>True</td>\n",
       "      <td>50</td>\n",
       "      <td>20</td>\n",
       "      <td>False</td>\n",
       "    </tr>\n",
       "    <tr>\n",
       "      <th>5</th>\n",
       "      <td>Food</td>\n",
       "      <td>SHARE AROUND</td>\n",
       "      <td>6</td>\n",
       "      <td>Jalapeño Frickles</td>\n",
       "      <td>Crispy Fried Pickled Jalapeños w/ Citru s Yoghurt</td>\n",
       "      <td>7.0</td>\n",
       "      <td>8.0</td>\n",
       "      <td>8.0</td>\n",
       "      <td>True</td>\n",
       "      <td>True</td>\n",
       "      <td>True</td>\n",
       "      <td>450</td>\n",
       "      <td>20</td>\n",
       "      <td>False</td>\n",
       "    </tr>\n",
       "    <tr>\n",
       "      <th>6</th>\n",
       "      <td>Food</td>\n",
       "      <td>SHARE AROUND</td>\n",
       "      <td>7</td>\n",
       "      <td>Pork Taquitos</td>\n",
       "      <td>Cheese &amp; Pork Corn Tortilla ‘Cigars’ Fried w/ ...</td>\n",
       "      <td>16.0</td>\n",
       "      <td>17.0</td>\n",
       "      <td>17.0</td>\n",
       "      <td>True</td>\n",
       "      <td>True</td>\n",
       "      <td>True</td>\n",
       "      <td>500</td>\n",
       "      <td>20</td>\n",
       "      <td>False</td>\n",
       "    </tr>\n",
       "    <tr>\n",
       "      <th>7</th>\n",
       "      <td>Food</td>\n",
       "      <td>SHARE AROUND</td>\n",
       "      <td>8</td>\n",
       "      <td>Veggie Taquitos</td>\n",
       "      <td>Cheese, Corn, Black Beans, Roasted Capsicum Co...</td>\n",
       "      <td>16.0</td>\n",
       "      <td>17.0</td>\n",
       "      <td>17.0</td>\n",
       "      <td>True</td>\n",
       "      <td>True</td>\n",
       "      <td>True</td>\n",
       "      <td>400</td>\n",
       "      <td>20</td>\n",
       "      <td>False</td>\n",
       "    </tr>\n",
       "    <tr>\n",
       "      <th>8</th>\n",
       "      <td>Food</td>\n",
       "      <td>SHARE AROUND</td>\n",
       "      <td>9</td>\n",
       "      <td>Sweet Potato Fries</td>\n",
       "      <td>w/ Chipotle BBQ Sauce &amp; Paprika &amp; Ha banero Salt</td>\n",
       "      <td>10.0</td>\n",
       "      <td>11.0</td>\n",
       "      <td>11.0</td>\n",
       "      <td>True</td>\n",
       "      <td>True</td>\n",
       "      <td>True</td>\n",
       "      <td>400</td>\n",
       "      <td>20</td>\n",
       "      <td>False</td>\n",
       "    </tr>\n",
       "    <tr>\n",
       "      <th>9</th>\n",
       "      <td>Food</td>\n",
       "      <td>SHARE AROUND</td>\n",
       "      <td>10</td>\n",
       "      <td>Spicy Buffalo Chicken Wings</td>\n",
       "      <td>Not Available at the moment</td>\n",
       "      <td>15.0</td>\n",
       "      <td>16.0</td>\n",
       "      <td>16.0</td>\n",
       "      <td>True</td>\n",
       "      <td>True</td>\n",
       "      <td>True</td>\n",
       "      <td>600</td>\n",
       "      <td>20</td>\n",
       "      <td>False</td>\n",
       "    </tr>\n",
       "  </tbody>\n",
       "</table>\n",
       "</div>"
      ],
      "text/plain": [
       "  category       section  id_item                                item  \\\n",
       "0     Food  SHARE AROUND        1  Freshly Cooked Tortilla Corn Chips   \n",
       "1     Food  SHARE AROUND        2                   Guacamole (small)   \n",
       "2     Food  SHARE AROUND        3                   Guacamole (large)   \n",
       "3     Food  SHARE AROUND        4         Pico De Gallo Salsa (small)   \n",
       "4     Food  SHARE AROUND        5         Pico De Gallo Salsa (large)   \n",
       "5     Food  SHARE AROUND        6                   Jalapeño Frickles   \n",
       "6     Food  SHARE AROUND        7                       Pork Taquitos   \n",
       "7     Food  SHARE AROUND        8                     Veggie Taquitos   \n",
       "8     Food  SHARE AROUND        9                  Sweet Potato Fries   \n",
       "9     Food  SHARE AROUND       10         Spicy Buffalo Chicken Wings   \n",
       "\n",
       "                                         description  price_dinein  \\\n",
       "0                        Not Available at the moment           5.5   \n",
       "1                    Avocado, Coriander & Lime Juice           6.0   \n",
       "2                    Avocado, Coriander & Lime Juice          10.0   \n",
       "3  w/ Tomato, Onion, Jalapeños, Coriander & Lime ...           5.0   \n",
       "4  w/ Tomato, Onion, Jalapeños, Coriander & Lime ...           8.0   \n",
       "5  Crispy Fried Pickled Jalapeños w/ Citru s Yoghurt           7.0   \n",
       "6  Cheese & Pork Corn Tortilla ‘Cigars’ Fried w/ ...          16.0   \n",
       "7  Cheese, Corn, Black Beans, Roasted Capsicum Co...          16.0   \n",
       "8   w/ Chipotle BBQ Sauce & Paprika & Ha banero Salt          10.0   \n",
       "9                        Not Available at the moment          15.0   \n",
       "\n",
       "   price_delivery  price_pickup  available_dinein  available_delivery  \\\n",
       "0             6.5           6.5              True                True   \n",
       "1             7.0           7.0              True                True   \n",
       "2            11.0          11.0              True                True   \n",
       "3             6.0           6.0              True                True   \n",
       "4             9.0           9.0              True                True   \n",
       "5             8.0           8.0              True                True   \n",
       "6            17.0          17.0              True                True   \n",
       "7            17.0          17.0              True                True   \n",
       "8            11.0          11.0              True                True   \n",
       "9            16.0          16.0              True                True   \n",
       "\n",
       "   available_pickup  calories  prep_time  alcohol  \n",
       "0              True       300         20    False  \n",
       "1              True       150         20    False  \n",
       "2              True       300         20    False  \n",
       "3              True        25         20    False  \n",
       "4              True        50         20    False  \n",
       "5              True       450         20    False  \n",
       "6              True       500         20    False  \n",
       "7              True       400         20    False  \n",
       "8              True       400         20    False  \n",
       "9              True       600         20    False  "
      ]
     },
     "execution_count": 11,
     "metadata": {},
     "output_type": "execute_result"
    }
   ],
   "source": [
    "df_1.head(10)"
   ]
  },
  {
   "cell_type": "code",
   "execution_count": 31,
   "metadata": {},
   "outputs": [
    {
     "name": "stderr",
     "output_type": "stream",
     "text": [
      "C:\\Users\\timmy\\AppData\\Local\\Temp\\ipykernel_20716\\30598450.py:1: FutureWarning: Series.__getitem__ treating keys as positions is deprecated. In a future version, integer keys will always be treated as labels (consistent with DataFrame behavior). To access a value by position, use `ser.iloc[pos]`\n",
      "  df_1.category.value_counts()[1]\n"
     ]
    },
    {
     "data": {
      "text/plain": [
       "13"
      ]
     },
     "execution_count": 31,
     "metadata": {},
     "output_type": "execute_result"
    }
   ],
   "source": [
    "df_1.category.value_counts()[1]"
   ]
  },
  {
   "cell_type": "markdown",
   "metadata": {},
   "source": [
    "Item_id is {id_item}. Item name (or food name) is {item}. All informations regarding {item} is as follow.\n",
    "The description of the item is {description}, it is available for for dining if you wish to dine in. Available for delivery ? : {available_delivery}. Available for pickup? {available_pickup}. It has {calories} much of calories in it. It will take {prep_time} to prepare it. Does it have alcohol in it? {alcohol}. "
   ]
  },
  {
   "cell_type": "code",
   "execution_count": 26,
   "metadata": {},
   "outputs": [
    {
     "data": {
      "text/plain": [
       "'Text file created successfully'"
      ]
     },
     "execution_count": 26,
     "metadata": {},
     "output_type": "execute_result"
    }
   ],
   "source": [
    "# creating a function that reads the excel file and then creates a document file from it\n",
    "def read_excel_file(file):\n",
    "    df = pd.read_excel(file)\n",
    "    cols_to_drop = ['id_client', 'client', 'contains', 'dietary']\n",
    "    df_1 = df.drop(cols_to_drop, axis=1)\n",
    "    # filling missing values with \"Not Available at the moment\"\n",
    "    df_1 = df_1.fillna(\"Not Available at the moment\")\n",
    "    # writing the data to a text file\n",
    "    with open('menu_items.txt', 'w') as file:\n",
    "        file.write(\"Menu Items\\n\\n\")\n",
    "        for _, row in df_1.iterrows():\n",
    "            item_id = row['id_item']\n",
    "            item_name = row['item']\n",
    "            category = row['category']\n",
    "            description = row['description']\n",
    "            available_delivery = row['available_delivery']\n",
    "            available_pickup = row['available_pickup']\n",
    "            calories = row['calories']\n",
    "            prep_time = row['prep_time']\n",
    "            alcohol = row['alcohol']\n",
    "            file.write(f\"Item_id is {item_id}. It is in the {category} category. Item name (or food name) is {item_name}. All information regarding {item_name} is as follows.\\n\")\n",
    "            file.write(f\"The description of the item is {description}, it is available for dining if you wish to dine in.\\n\")\n",
    "            file.write(f\"Available for delivery? : {available_delivery}.\\n\")\n",
    "            file.write(f\"Available for pickup? {available_pickup}.\\n\")\n",
    "            file.write(f\"It has {calories} calories in it.\\n\")\n",
    "            file.write(f\"It will take {prep_time} to prepare it.\\n\")\n",
    "            file.write(f\"Does it have alcohol in it? {alcohol}.\\n\\n\")\n",
    "    \n",
    "    return \"Text file created successfully\"\n",
    "\n",
    "\n",
    "# using the function\n",
    "read_excel_file(\"240305 Muchacha menu v1.xlsx\")"
   ]
  },
  {
   "cell_type": "code",
   "execution_count": 34,
   "metadata": {},
   "outputs": [],
   "source": [
    "# creating another one for items_id and items\n",
    "def items(file):\n",
    "    df = pd.read_excel(file)\n",
    "    cols_to_drop = ['id_client', 'client', 'contains', 'dietary']\n",
    "    df_1 = df.drop(cols_to_drop, axis=1)\n",
    "    # filling missing values with \"Not Available at the moment\"\n",
    "    df_1 = df_1.fillna(\"Not Available at the moment\")\n",
    "    # writing the data to a text file\n",
    "    with open('id_items.txt', 'w') as file:\n",
    "        file.write(\"Id Items\\n\\n\")\n",
    "        for _, row in df_1.iterrows():\n",
    "            item_id = row['id_item']\n",
    "            item_name = row['item']\n",
    "            file.write(f\"{item_id} : {item_name} \\n\")\n",
    "\n",
    "items(\"240305 Muchacha menu v1.xlsx\")         "
   ]
  },
  {
   "cell_type": "markdown",
   "metadata": {},
   "source": []
  },
  {
   "cell_type": "code",
   "execution_count": 27,
   "metadata": {},
   "outputs": [],
   "source": [
    "\n",
    "# Step 1\n",
    "raw_documents = TextLoader(\"menu_items.txt\").load()"
   ]
  },
  {
   "cell_type": "code",
   "execution_count": 28,
   "metadata": {},
   "outputs": [],
   "source": [
    "# Step 2\n",
    "text_splitter = RecursiveCharacterTextSplitter(\n",
    "    chunk_size=500, chunk_overlap=10, length_function=len\n",
    ")\n",
    "documents = text_splitter.split_documents(raw_documents)"
   ]
  },
  {
   "cell_type": "code",
   "execution_count": 30,
   "metadata": {},
   "outputs": [
    {
     "data": {
      "text/plain": [
       "Document(page_content='Menu Items\\n\\nItem_id is 1. It is in the Food category. Item name (or food name) is Freshly Cooked Tortilla Corn Chips. All information regarding Freshly Cooked Tortilla Corn Chips is as follows.\\nThe description of the item is Not Available at the moment, it is available for dining if you wish to dine in.\\nAvailable for delivery? : True.\\nAvailable for pickup? True.\\nIt has 300 calories in it.\\nIt will take 20 to prepare it.\\nDoes it have alcohol in it? False.', metadata={'source': 'menu_items.txt'})"
      ]
     },
     "execution_count": 30,
     "metadata": {},
     "output_type": "execute_result"
    }
   ],
   "source": [
    "documents[0]"
   ]
  },
  {
   "cell_type": "code",
   "execution_count": 24,
   "metadata": {},
   "outputs": [
    {
     "name": "stderr",
     "output_type": "stream",
     "text": [
      "c:\\Users\\timmy\\Downloads\\Alex proj\\venv\\lib\\site-packages\\langchain_core\\_api\\deprecation.py:117: LangChainDeprecationWarning: The class `langchain_community.embeddings.openai.OpenAIEmbeddings` was deprecated in langchain-community 0.0.9 and will be removed in 0.2.0. An updated version of the class exists in the langchain-openai package and should be used instead. To use it run `pip install -U langchain-openai` and import as `from langchain_openai import OpenAIEmbeddings`.\n",
      "  warn_deprecated(\n"
     ]
    }
   ],
   "source": [
    "# Step 3\n",
    "embeddings_model = OpenAIEmbeddings(api_key=OpenAI_key)\n",
    "db = FAISS.from_documents(documents, embeddings_model)\n",
    "\n",
    "# Step 4\n",
    "retriever = db.as_retriever()"
   ]
  },
  {
   "cell_type": "code",
   "execution_count": 41,
   "metadata": {},
   "outputs": [],
   "source": [
    "from langchain_openai import ChatOpenAI\n",
    "# Step 5\n",
    "llm_src = ChatOpenAI(temperature=0, model=\"gpt-3.5-turbo-1106\", api_key=OpenAI_key)\n",
    "qa_chain = create_qa_with_sources_chain(llm_src)\n",
    "retrieval_qa = ConversationalRetrievalChain.from_llm(\n",
    "    llm_src,\n",
    "    retriever,\n",
    "    return_source_documents=True,\n",
    ")\n"
   ]
  },
  {
   "cell_type": "code",
   "execution_count": 42,
   "metadata": {},
   "outputs": [],
   "source": [
    "# Output\n",
    "output = retrieval_qa({\n",
    "    \"question\": \"What are the available Tacos\",\n",
    "    \"chat_history\": []\n",
    "})"
   ]
  },
  {
   "cell_type": "code",
   "execution_count": 43,
   "metadata": {},
   "outputs": [
    {
     "name": "stdout",
     "output_type": "stream",
     "text": [
      "Question: What are the available Tacos\n",
      "Answer: The available tacos are the Prawn Tacos and the description is \"Grilled Large Flour Tortilla & Cheese Served w/ Side of Salsa & Citrus.\"\n",
      "Source: menu_items.txt\n"
     ]
    }
   ],
   "source": [
    "print(f\"Question: {output['question']}\")\n",
    "print(f\"Answer: {output['answer']}\")\n",
    "print(f\"Source: {output['source_documents'][0].metadata['source']}\")"
   ]
  },
  {
   "cell_type": "code",
   "execution_count": null,
   "metadata": {},
   "outputs": [],
   "source": []
  },
  {
   "cell_type": "code",
   "execution_count": null,
   "metadata": {},
   "outputs": [],
   "source": []
  },
  {
   "cell_type": "code",
   "execution_count": null,
   "metadata": {},
   "outputs": [],
   "source": []
  },
  {
   "cell_type": "code",
   "execution_count": null,
   "metadata": {},
   "outputs": [],
   "source": []
  },
  {
   "cell_type": "code",
   "execution_count": null,
   "metadata": {},
   "outputs": [],
   "source": []
  },
  {
   "cell_type": "code",
   "execution_count": null,
   "metadata": {},
   "outputs": [],
   "source": []
  },
  {
   "cell_type": "code",
   "execution_count": null,
   "metadata": {},
   "outputs": [],
   "source": []
  },
  {
   "cell_type": "code",
   "execution_count": null,
   "metadata": {},
   "outputs": [],
   "source": []
  },
  {
   "cell_type": "code",
   "execution_count": null,
   "metadata": {},
   "outputs": [],
   "source": []
  },
  {
   "cell_type": "code",
   "execution_count": null,
   "metadata": {},
   "outputs": [],
   "source": []
  },
  {
   "cell_type": "code",
   "execution_count": null,
   "metadata": {},
   "outputs": [],
   "source": []
  },
  {
   "cell_type": "code",
   "execution_count": null,
   "metadata": {},
   "outputs": [],
   "source": []
  },
  {
   "cell_type": "code",
   "execution_count": null,
   "metadata": {},
   "outputs": [],
   "source": []
  },
  {
   "cell_type": "code",
   "execution_count": null,
   "metadata": {},
   "outputs": [],
   "source": []
  },
  {
   "cell_type": "code",
   "execution_count": null,
   "metadata": {},
   "outputs": [],
   "source": []
  },
  {
   "cell_type": "code",
   "execution_count": null,
   "metadata": {},
   "outputs": [],
   "source": []
  }
 ],
 "metadata": {
  "kernelspec": {
   "display_name": "Python 3",
   "language": "python",
   "name": "python3"
  },
  "language_info": {
   "codemirror_mode": {
    "name": "ipython",
    "version": 3
   },
   "file_extension": ".py",
   "mimetype": "text/x-python",
   "name": "python",
   "nbconvert_exporter": "python",
   "pygments_lexer": "ipython3",
   "version": "3.10.13"
  }
 },
 "nbformat": 4,
 "nbformat_minor": 2
}
